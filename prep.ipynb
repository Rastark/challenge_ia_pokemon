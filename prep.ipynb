{
 "metadata": {
  "language_info": {
   "codemirror_mode": {
    "name": "ipython",
    "version": 3
   },
   "file_extension": ".py",
   "mimetype": "text/x-python",
   "name": "python",
   "nbconvert_exporter": "python",
   "pygments_lexer": "ipython3",
   "version": "3.7.6"
  },
  "orig_nbformat": 2,
  "kernelspec": {
   "name": "python376jvsc74a57bd0f7f94edebdab6b5d245ca6605c3134cc5507196ead12b66a3ef6c5508944d7e6",
   "display_name": "Python 3.7.6 64-bit ('base': conda)"
  },
  "metadata": {
   "interpreter": {
    "hash": "f7f94edebdab6b5d245ca6605c3134cc5507196ead12b66a3ef6c5508944d7e6"
   }
  }
 },
 "nbformat": 4,
 "nbformat_minor": 2,
 "cells": [
  {
   "cell_type": "code",
   "execution_count": 14,
   "metadata": {},
   "outputs": [
    {
     "output_type": "stream",
     "name": "stdout",
     "text": [
      "Requirement already satisfied: pandas in /home/rastark/anaconda3/lib/python3.7/site-packages (from -r requirements.txt (line 1)) (1.1.3)\n",
      "Requirement already satisfied: numpy in /home/rastark/anaconda3/lib/python3.7/site-packages (from -r requirements.txt (line 2)) (1.19.2)\n",
      "Requirement already satisfied: scikit-learn in /home/rastark/anaconda3/lib/python3.7/site-packages (from -r requirements.txt (line 3)) (0.23.2)\n",
      "Requirement already satisfied: seaborn in /home/rastark/anaconda3/lib/python3.7/site-packages (from -r requirements.txt (line 4)) (0.11.0)\n",
      "Requirement already satisfied: matplotlib in /home/rastark/anaconda3/lib/python3.7/site-packages (from -r requirements.txt (line 5)) (3.3.2)\n",
      "Requirement already satisfied: pillow>=6.2.0 in /home/rastark/anaconda3/lib/python3.7/site-packages (from matplotlib->-r requirements.txt (line 5)) (8.0.1)\n",
      "Requirement already satisfied: kiwisolver>=1.0.1 in /home/rastark/anaconda3/lib/python3.7/site-packages (from matplotlib->-r requirements.txt (line 5)) (1.3.0)\n",
      "Requirement already satisfied: python-dateutil>=2.1 in /home/rastark/anaconda3/lib/python3.7/site-packages (from matplotlib->-r requirements.txt (line 5)) (2.8.1)\n",
      "Requirement already satisfied: cycler>=0.10 in /home/rastark/anaconda3/lib/python3.7/site-packages (from matplotlib->-r requirements.txt (line 5)) (0.10.0)\n",
      "Requirement already satisfied: certifi>=2020.06.20 in /home/rastark/anaconda3/lib/python3.7/site-packages (from matplotlib->-r requirements.txt (line 5)) (2020.12.5)\n",
      "Requirement already satisfied: pyparsing!=2.0.4,!=2.1.2,!=2.1.6,>=2.0.3 in /home/rastark/anaconda3/lib/python3.7/site-packages (from matplotlib->-r requirements.txt (line 5)) (2.4.7)\n",
      "Requirement already satisfied: six in /home/rastark/anaconda3/lib/python3.7/site-packages (from cycler>=0.10->matplotlib->-r requirements.txt (line 5)) (1.15.0)\n",
      "Requirement already satisfied: pytz>=2017.2 in /home/rastark/anaconda3/lib/python3.7/site-packages (from pandas->-r requirements.txt (line 1)) (2020.4)\n",
      "Requirement already satisfied: scipy>=0.19.1 in /home/rastark/anaconda3/lib/python3.7/site-packages (from scikit-learn->-r requirements.txt (line 3)) (1.5.2)\n",
      "Requirement already satisfied: threadpoolctl>=2.0.0 in /home/rastark/anaconda3/lib/python3.7/site-packages (from scikit-learn->-r requirements.txt (line 3)) (2.1.0)\n",
      "Requirement already satisfied: joblib>=0.11 in /home/rastark/anaconda3/lib/python3.7/site-packages (from scikit-learn->-r requirements.txt (line 3)) (1.0.0)\n"
     ]
    }
   ],
   "source": [
    "!pip install -r requirements.txt"
   ]
  },
  {
   "cell_type": "code",
   "execution_count": 20,
   "metadata": {},
   "outputs": [],
   "source": [
    "import pandas as pd\n",
    "import numpy as np\n",
    "from sklearn.model_selection import train_test_split"
   ]
  },
  {
   "cell_type": "code",
   "execution_count": 16,
   "metadata": {},
   "outputs": [],
   "source": [
    "poke_feature_dataset = pd.read_csv('pokemon.csv')\n",
    "poke_battles_dataset = pd.read_csv('combats.partial.csv')"
   ]
  },
  {
   "cell_type": "code",
   "execution_count": 18,
   "metadata": {},
   "outputs": [],
   "source": [
    "train, test = train_test_split(poke_battles_dataset, test_size=0.2, random_state=22)\n",
    "\n",
    "train.to_csv(\"train.csv\", index=False)\n",
    "test.to_csv(\"test.csv\", index=False)"
   ]
  },
  {
   "cell_type": "code",
   "execution_count": 19,
   "metadata": {},
   "outputs": [
    {
     "output_type": "execute_result",
     "data": {
      "text/plain": [
       "       Winner  First_pokemon  Second_pokemon\n",
       "9460      405            405             585\n",
       "15722     484            484             692\n",
       "4785      519            519              99\n",
       "4230      662            662             482\n",
       "17729     671            667             671\n",
       "30904     583            610             583\n",
       "38676     397            397             442\n",
       "18558     443            443             790\n",
       "9881      457            573             457\n",
       "28141     269            309             269"
      ],
      "text/html": "<div>\n<style scoped>\n    .dataframe tbody tr th:only-of-type {\n        vertical-align: middle;\n    }\n\n    .dataframe tbody tr th {\n        vertical-align: top;\n    }\n\n    .dataframe thead th {\n        text-align: right;\n    }\n</style>\n<table border=\"1\" class=\"dataframe\">\n  <thead>\n    <tr style=\"text-align: right;\">\n      <th></th>\n      <th>Winner</th>\n      <th>First_pokemon</th>\n      <th>Second_pokemon</th>\n    </tr>\n  </thead>\n  <tbody>\n    <tr>\n      <th>9460</th>\n      <td>405</td>\n      <td>405</td>\n      <td>585</td>\n    </tr>\n    <tr>\n      <th>15722</th>\n      <td>484</td>\n      <td>484</td>\n      <td>692</td>\n    </tr>\n    <tr>\n      <th>4785</th>\n      <td>519</td>\n      <td>519</td>\n      <td>99</td>\n    </tr>\n    <tr>\n      <th>4230</th>\n      <td>662</td>\n      <td>662</td>\n      <td>482</td>\n    </tr>\n    <tr>\n      <th>17729</th>\n      <td>671</td>\n      <td>667</td>\n      <td>671</td>\n    </tr>\n    <tr>\n      <th>30904</th>\n      <td>583</td>\n      <td>610</td>\n      <td>583</td>\n    </tr>\n    <tr>\n      <th>38676</th>\n      <td>397</td>\n      <td>397</td>\n      <td>442</td>\n    </tr>\n    <tr>\n      <th>18558</th>\n      <td>443</td>\n      <td>443</td>\n      <td>790</td>\n    </tr>\n    <tr>\n      <th>9881</th>\n      <td>457</td>\n      <td>573</td>\n      <td>457</td>\n    </tr>\n    <tr>\n      <th>28141</th>\n      <td>269</td>\n      <td>309</td>\n      <td>269</td>\n    </tr>\n  </tbody>\n</table>\n</div>"
     },
     "metadata": {},
     "execution_count": 19
    }
   ],
   "source": [
    "train.head(10)"
   ]
  },
  {
   "source": [
    "Utilizzo .info() per determinare se e quali feature possano contenere valori nulli."
   ],
   "cell_type": "markdown",
   "metadata": {}
  },
  {
   "cell_type": "code",
   "execution_count": 8,
   "metadata": {},
   "outputs": [
    {
     "output_type": "stream",
     "name": "stdout",
     "text": [
      "<class 'pandas.core.frame.DataFrame'>\nRangeIndex: 800 entries, 0 to 799\nData columns (total 12 columns):\n #   Column      Non-Null Count  Dtype \n---  ------      --------------  ----- \n 0   #           800 non-null    int64 \n 1   Name        799 non-null    object\n 2   Type 1      800 non-null    object\n 3   Type 2      414 non-null    object\n 4   HP          800 non-null    int64 \n 5   Attack      800 non-null    int64 \n 6   Defense     800 non-null    int64 \n 7   Sp. Atk     800 non-null    int64 \n 8   Sp. Def     800 non-null    int64 \n 9   Speed       800 non-null    int64 \n 10  Generation  800 non-null    int64 \n 11  Legendary   800 non-null    bool  \ndtypes: bool(1), int64(8), object(3)\nmemory usage: 69.7+ KB\n"
     ]
    }
   ],
   "source": [
    "poke_feature_dataset.info()"
   ]
  },
  {
   "cell_type": "code",
   "execution_count": 10,
   "metadata": {},
   "outputs": [
    {
     "output_type": "execute_result",
     "data": {
      "text/plain": [
       "   Winner  First_pokemon  Second_pokemon\n",
       "0     650            650             579\n",
       "1     151            151             558\n",
       "2     340            340             631\n",
       "3     139            688             139\n",
       "4     132            365             132\n",
       "5     440            200             440\n",
       "6     336            108             336\n",
       "7     797            797             202\n",
       "8     423            719             423\n",
       "9     800            800             227"
      ],
      "text/html": "<div>\n<style scoped>\n    .dataframe tbody tr th:only-of-type {\n        vertical-align: middle;\n    }\n\n    .dataframe tbody tr th {\n        vertical-align: top;\n    }\n\n    .dataframe thead th {\n        text-align: right;\n    }\n</style>\n<table border=\"1\" class=\"dataframe\">\n  <thead>\n    <tr style=\"text-align: right;\">\n      <th></th>\n      <th>Winner</th>\n      <th>First_pokemon</th>\n      <th>Second_pokemon</th>\n    </tr>\n  </thead>\n  <tbody>\n    <tr>\n      <th>0</th>\n      <td>650</td>\n      <td>650</td>\n      <td>579</td>\n    </tr>\n    <tr>\n      <th>1</th>\n      <td>151</td>\n      <td>151</td>\n      <td>558</td>\n    </tr>\n    <tr>\n      <th>2</th>\n      <td>340</td>\n      <td>340</td>\n      <td>631</td>\n    </tr>\n    <tr>\n      <th>3</th>\n      <td>139</td>\n      <td>688</td>\n      <td>139</td>\n    </tr>\n    <tr>\n      <th>4</th>\n      <td>132</td>\n      <td>365</td>\n      <td>132</td>\n    </tr>\n    <tr>\n      <th>5</th>\n      <td>440</td>\n      <td>200</td>\n      <td>440</td>\n    </tr>\n    <tr>\n      <th>6</th>\n      <td>336</td>\n      <td>108</td>\n      <td>336</td>\n    </tr>\n    <tr>\n      <th>7</th>\n      <td>797</td>\n      <td>797</td>\n      <td>202</td>\n    </tr>\n    <tr>\n      <th>8</th>\n      <td>423</td>\n      <td>719</td>\n      <td>423</td>\n    </tr>\n    <tr>\n      <th>9</th>\n      <td>800</td>\n      <td>800</td>\n      <td>227</td>\n    </tr>\n  </tbody>\n</table>\n</div>"
     },
     "metadata": {},
     "execution_count": 10
    }
   ],
   "source": [
    "poke_battles_dataset.head(10)"
   ]
  },
  {
   "cell_type": "code",
   "execution_count": null,
   "metadata": {},
   "outputs": [],
   "source": []
  }
 ]
}